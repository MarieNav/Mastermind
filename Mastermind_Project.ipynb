{
 "cells": [
  {
   "cell_type": "code",
   "execution_count": 1,
   "metadata": {},
   "outputs": [],
   "source": [
    "\"\"\"MASTERMIND\"\"\"\n",
    "\n",
    "from random import randint                  #generator of our secret code\n",
    "\n",
    "def mastermind(columns=4, colors=4, rounds=12):  #our function, with defaults values, which could be changed for more difficulty\n",
    "    \"\"\" Mastermind game\n",
    "    1 player versus the computer\n",
    "    You have to guess a secret code which is generated randomly\n",
    "    By default, we play with 4 columns, 4 colors (represented by numbers) and 12 rounds.\n",
    "    Those can be changed to increase the difficulty\"\"\"\n",
    "    \n",
    "    round = 1\n",
    "    secret_code = [str(randint(1,colors)) for i in range(columns)]       #code generation\n",
    "    print(\"Welcome to MASTERMIND\\nFind a code of\",columns, \"digits corresponding to colors between 1 and\",colors, end=\"\") ; print(\". Good luck!\")\n",
    "\n",
    "    while True:\n",
    "        code = secret_code.copy()                               #code will be modified, but we don't want secret_code to be modified\n",
    "        player_choice = list(input(\"Round \"+str(round)+\":\"))    #player is invited to guess the code\n",
    "               \n",
    "        if len(player_choice) !=4:                             #test the number of digits\n",
    "            print(\"Please, insert a 4 digits code\")\n",
    "            round += 1\n",
    "            continue\n",
    "            \n",
    "        for i in player_choice:                                #test input is a number\n",
    "            if i.isdigit()==False:\n",
    "                print(\"Please, insert a code with 4 digits without caracters\")\n",
    "                break\n",
    "      \n",
    "        round += 1\n",
    "        good_color_and_position = 0\n",
    "        good_color_wrong_position = 0\n",
    "\n",
    "        for i,v in enumerate(player_choice):\n",
    "            if v == code[i]:                            # look at good colors in good position\n",
    "                good_color_and_position += 1\n",
    "                player_choice[i] = \"X\"                  # remove from player choice what has already been counted to avoid recounting it\n",
    "                code[i] = \"x\"                           # remove from secret_code what has already been counted to avoid recounting it\n",
    "\n",
    "        if good_color_and_position == columns:                                          # when|if player find secret_code\n",
    "            print(\"Well done! The code was indeed:\",\"\".join(secret_code), end=\"\") ; print(\". See you!\")\n",
    "            break\n",
    "\n",
    "        for i,v in enumerate(player_choice):            # look at good colors in wrong position\n",
    "            if v in code :\n",
    "                good_color_wrong_position += 1\n",
    "                code[code.index(v)] = \"x\"               # remove from secret_code what has already been counted to avoid recounting it\n",
    "\n",
    "        print(\"Good color and position:\", good_color_and_position, \"\\nGood color wrong position:\", good_color_wrong_position)\n",
    "\n",
    "        if round > rounds:                              # if player didn't guess before max rounds\n",
    "            print(\"You were unable to guess the exact pattern within the given number of turns.\\nThe code was:\",\"\".join(secret_code), end=\"\") ; print(\". See you!\")\n",
    "            break"
   ]
  },
  {
   "cell_type": "code",
   "execution_count": 2,
   "metadata": {},
   "outputs": [
    {
     "name": "stdout",
     "output_type": "stream",
     "text": [
      "Welcome to MASTERMIND\n",
      "Find a code of 4 digits corresponding to colors between 1 and 4. Good luck!\n",
      "Round 1:1111\n",
      "Good color and position: 1 \n",
      "Good color wrong position: 0\n",
      "Round 2:2222\n",
      "Good color and position: 1 \n",
      "Good color wrong position: 0\n",
      "Round 3:3333\n",
      "Good color and position: 2 \n",
      "Good color wrong position: 0\n",
      "Round 4:1233\n",
      "Good color and position: 1 \n",
      "Good color wrong position: 3\n",
      "Round 5:3321\n",
      "Good color and position: 1 \n",
      "Good color wrong position: 3\n",
      "Round 6:3312\n",
      "Good color and position: 2 \n",
      "Good color wrong position: 2\n",
      "Round 7:3123\n",
      "Good color and position: 1 \n",
      "Good color wrong position: 3\n",
      "Round 8:1332\n",
      "Good color and position: 1 \n",
      "Good color wrong position: 3\n",
      "Round 9:1323\n",
      "Good color and position: 2 \n",
      "Good color wrong position: 2\n",
      "Round 10:2313\n",
      "Well done! The code was indeed: 2313. See you!\n"
     ]
    }
   ],
   "source": [
    "mastermind()"
   ]
  },
  {
   "cell_type": "code",
   "execution_count": null,
   "metadata": {},
   "outputs": [],
   "source": []
  }
 ],
 "metadata": {
  "kernelspec": {
   "display_name": "Python 3",
   "language": "python",
   "name": "python3"
  },
  "language_info": {
   "codemirror_mode": {
    "name": "ipython",
    "version": 3
   },
   "file_extension": ".py",
   "mimetype": "text/x-python",
   "name": "python",
   "nbconvert_exporter": "python",
   "pygments_lexer": "ipython3",
   "version": "3.7.6"
  }
 },
 "nbformat": 4,
 "nbformat_minor": 4
}
